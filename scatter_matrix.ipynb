{
 "cells": [
  {
   "cell_type": "code",
   "execution_count": null,
   "id": "initial_id",
   "metadata": {
    "collapsed": true
   },
   "outputs": [],
   "source": [
    "# 1. Load data and clean\n",
    "import pandas as pd\n",
    "\n",
    "#Data preparation and preprocessing\n",
    "#Read the original data file\n",
    "df = pd.read_csv(\"Results_21Mar2022.csv\")  \n",
    "\n",
    "#Remove rows containing missing values\n",
    "df_clean = df.dropna()\n",
    "\n",
    "# Save the cleaned data as a new CSV file\n",
    "df_clean.to_csv(\"Results_21Mar2022_cleaned.csv\", index=False)\n",
    "\n",
    "print(\"Data washed and saved successfully as the name of Results_21Mar2022_cleaned.csv\")"
   ]
  },
  {
   "cell_type": "code",
   "execution_count": null,
   "id": "f8480e5e9bd929e6",
   "metadata": {},
   "outputs": [],
   "source": [
    "#import pandas as pd\n",
    "from sklearn.preprocessing import StandardScaler\n",
    "\n",
    "# 2. Reading data with missing values\n",
    "df = pd.read_csv(\"Results_21Mar2022_cleaned.csv\")\n",
    "\n",
    "# Select the required columns\n",
    "env_cols = [\n",
    "    'mean_ghgs', 'mean_land', 'mean_watscar',\n",
    "    'mean_eut', 'mean_bio', 'mean_watuse', 'mean_acid'\n",
    "]\n",
    "\n",
    "df_plot = df[['diet_group'] + env_cols].dropna()\n",
    "\n",
    "# 3. Standardized indicator columns\n",
    "scaler = StandardScaler()\n",
    "df_plot[env_cols] = scaler.fit_transform(df_plot[env_cols])\n",
    "\n",
    "# Save as CSV suitable for plotly data visualization\n",
    "df_plot.to_csv(\"plotly_ready_dataset.csv\", index=False)"
   ]
  },
  {
   "cell_type": "code",
   "execution_count": null,
   "id": "17d48e5ff9456fc4",
   "metadata": {
    "ExecuteTime": {
     "end_time": "2025-04-20T01:51:33.065390Z",
     "start_time": "2025-04-20T01:51:32.680283Z"
    }
   },
   "outputs": [],
   "source": [
    "#import pandas as pd\n",
    "import plotly.express as px\n",
    "\n",
    "# 4. Reading normalized data\n",
    "df = pd.read_csv(\"plotly_ready_dataset.csv\")\n",
    "\n",
    "# Select environmental indicator columns for plotting + diet_group\n",
    "env_cols = [\n",
    "    'mean_ghgs', 'mean_land', 'mean_watscar',\n",
    "    'mean_eut', 'mean_bio', 'mean_watuse', 'mean_acid'\n",
    "]\n",
    "\n",
    "# 5. Extract the fields required for drawing and remove missing values\n",
    "plot_df = df[['diet_group'] + env_cols].dropna()\n",
    "\n",
    "color_map = {\n",
    "    'vegan': '#1f77b4',\n",
    "    'veggie': '#2ca02c',\n",
    "    'fish': '#9467bd',\n",
    "    'meat': '#ff7f0e',\n",
    "    'meat50': '#bcbd22',\n",
    "    'meat100': '#d62728'\n",
    "}\n",
    "\n",
    "# 6. Creating a Scatter Plot Matrix with Plotly Express\n",
    "fig = px.scatter_matrix(\n",
    "    plot_df,\n",
    "    dimensions=env_cols,           # All variables used for plotting\n",
    "    color='diet_group',            # Different colors represent different diet groups\n",
    "    title=\"Scatter Plot Matrix of Environmental Indicators by Diet Group\",\n",
    "    height=800,\n",
    "    width=1000,\n",
    "    color_discrete_map=color_map\n",
    ")\n",
    "\n",
    "# Font and title styles\n",
    "fig.update_layout(\n",
    "    font=dict(\n",
    "        family=\"Arial\",\n",
    "        size=12\n",
    "    ),\n",
    "    title_font_size=20,\n",
    "    title_x=0.5  \n",
    ")\n",
    "\n",
    "# 7. Save as HTML for interactive viewing\n",
    "fig.write_html(\"scatter_matrix_plotly.html\")\n"
   ]
  },
  {
   "cell_type": "code",
   "execution_count": null,
   "id": "c33dec141bce0154",
   "metadata": {},
   "outputs": [],
   "source": []
  }
 ],
 "metadata": {
  "kernelspec": {
   "display_name": "Python 3",
   "language": "python",
   "name": "python3"
  },
  "language_info": {
   "codemirror_mode": {
    "name": "ipython",
    "version": 2
   },
   "file_extension": ".py",
   "mimetype": "text/x-python",
   "name": "python",
   "nbconvert_exporter": "python",
   "pygments_lexer": "ipython2",
   "version": "2.7.6"
  }
 },
 "nbformat": 4,
 "nbformat_minor": 5
}
